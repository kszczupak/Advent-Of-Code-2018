{
 "cells": [
  {
   "cell_type": "code",
   "execution_count": 1,
   "metadata": {},
   "outputs": [],
   "source": [
    "def is_oposite_polarity(letter, other_letter):\n",
    "    if letter == other_letter:\n",
    "        return False\n",
    "    \n",
    "    if letter.lower() == other_letter.lower():\n",
    "        return True\n",
    "    \n",
    "    return False\n",
    "\n",
    "def next_not_canceled_index(index, canceled_indexes):\n",
    "    next_index = index + 1\n",
    "    while next_index in canceled_indexes:\n",
    "        next_index += 1\n",
    "        \n",
    "    return next_index\n",
    "\n",
    "def previous_not_canceled_index(index, canceled_indexes):\n",
    "    previous_index = index - 1\n",
    "    while previous_index in canceled_indexes:\n",
    "        previous_index -= 1\n",
    "        \n",
    "    return previous_index\n",
    "\n",
    "def old_reduce_polymer(polymer):\n",
    "    canceled_indexes = set()\n",
    "    current_index = 0\n",
    "    next_index = next_not_canceled_index(current_index, canceled_indexes)\n",
    "    \n",
    "    while len(polymer) > next_index:\n",
    "        letter_a = polymer[current_index]\n",
    "        letter_b = polymer[next_index]\n",
    "        \n",
    "        if is_oposite_polarity(letter_a, letter_b):\n",
    "            # Need to cancel\n",
    "            canceled_indexes.update([current_index, next_index])\n",
    "            current_index = previous_not_canceled_index(current_index, canceled_indexes)\n",
    "            if current_index < 0:\n",
    "                current_index = next_not_canceled_index(current_index, canceled_indexes)\n",
    "        else:\n",
    "            # Different polarity, so advance in input string\n",
    "            current_index = next_not_canceled_index(current_index, canceled_indexes)\n",
    "        \n",
    "        next_index = next_not_canceled_index(current_index, canceled_indexes)\n",
    "    \n",
    "    return len(polymer) - len(canceled_indexes)\n",
    "\n",
    "def reduce_polymer(polymer):\n",
    "    reduced_polymer = list()\n",
    "    \n",
    "    for unit in polymer:\n",
    "        if not reduced_polymer:\n",
    "            # Initial state\n",
    "            reduced_polymer.append(unit)\n",
    "            continue\n",
    "            \n",
    "        if is_oposite_polarity(unit, reduced_polymer[-1]):\n",
    "            reduced_polymer.pop()\n",
    "        else:\n",
    "            reduced_polymer.append(unit)\n",
    "            \n",
    "    return reduced_polymer\n",
    "\n",
    "def part_1_solution(input_polymer):\n",
    "    return len(reduce_polymer(input_polymer))"
   ]
  },
  {
   "cell_type": "code",
   "execution_count": 2,
   "metadata": {},
   "outputs": [
    {
     "name": "stdout",
     "output_type": "stream",
     "text": [
      "Test passed\n"
     ]
    }
   ],
   "source": [
    "assert(part_1_solution(\"dabAcCaCBAcCcaDA\") == 10)\n",
    "assert(part_1_solution(\"dabAcCaCBAcCcadd\") == 10)\n",
    "assert(part_1_solution(\"yYzZMmXSs\") == 1)\n",
    "print(\"Test passed\")"
   ]
  },
  {
   "cell_type": "code",
   "execution_count": 3,
   "metadata": {},
   "outputs": [],
   "source": [
    "with open(\"inputs/Day_05.txt\") as f:\n",
    "    puzzle_input = f.read()"
   ]
  },
  {
   "cell_type": "code",
   "execution_count": 4,
   "metadata": {},
   "outputs": [
    {
     "name": "stdout",
     "output_type": "stream",
     "text": [
      "Part 1 solution: 9526\n"
     ]
    }
   ],
   "source": [
    "print(f\"Part 1 solution: {part_1_solution(puzzle_input)}\")"
   ]
  },
  {
   "cell_type": "code",
   "execution_count": 5,
   "metadata": {},
   "outputs": [],
   "source": [
    "import re\n",
    "\n",
    "def part_2_solution(input_polymer):\n",
    "    all_units = {unit.lower() for unit in input_polymer}\n",
    "    scores = dict()\n",
    "    \n",
    "    for unit in all_units:\n",
    "        polymer_wihtout_unit = re.sub(unit,\"\", input_polymer, flags=re.IGNORECASE)\n",
    "        scores[unit] = len(reduce_polymer(polymer_wihtout_unit))\n",
    "\n",
    "    return sorted(scores.values())[0]\n",
    "    "
   ]
  },
  {
   "cell_type": "code",
   "execution_count": 6,
   "metadata": {},
   "outputs": [
    {
     "name": "stdout",
     "output_type": "stream",
     "text": [
      "Test passed\n"
     ]
    }
   ],
   "source": [
    "assert(part_2_solution(\"dabAcCaCBAcCcaDA\") == 4)\n",
    "print(\"Test passed\")"
   ]
  },
  {
   "cell_type": "code",
   "execution_count": 7,
   "metadata": {},
   "outputs": [
    {
     "name": "stdout",
     "output_type": "stream",
     "text": [
      "Part 2 solution: 6694\n"
     ]
    }
   ],
   "source": [
    "print(f\"Part 2 solution: {part_2_solution(puzzle_input)}\")"
   ]
  },
  {
   "cell_type": "code",
   "execution_count": 10,
   "metadata": {},
   "outputs": [
    {
     "name": "stdout",
     "output_type": "stream",
     "text": [
      "47.1 ms ± 4.8 ms per loop (mean ± std. dev. of 7 runs, 10 loops each)\n"
     ]
    }
   ],
   "source": [
    "%%timeit\n",
    "part_1_solution(puzzle_input)"
   ]
  },
  {
   "cell_type": "code",
   "execution_count": 11,
   "metadata": {},
   "outputs": [
    {
     "name": "stdout",
     "output_type": "stream",
     "text": [
      "1.23 s ± 66.2 ms per loop (mean ± std. dev. of 7 runs, 1 loop each)\n"
     ]
    }
   ],
   "source": [
    "%%timeit\n",
    "part_2_solution(puzzle_input)"
   ]
  },
  {
   "cell_type": "code",
   "execution_count": null,
   "metadata": {},
   "outputs": [],
   "source": []
  }
 ],
 "metadata": {
  "kernelspec": {
   "display_name": "Python 3",
   "language": "python",
   "name": "python3"
  },
  "language_info": {
   "codemirror_mode": {
    "name": "ipython",
    "version": 3
   },
   "file_extension": ".py",
   "mimetype": "text/x-python",
   "name": "python",
   "nbconvert_exporter": "python",
   "pygments_lexer": "ipython3",
   "version": "3.6.1"
  }
 },
 "nbformat": 4,
 "nbformat_minor": 2
}
