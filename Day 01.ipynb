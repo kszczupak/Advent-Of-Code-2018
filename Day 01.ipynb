{
 "cells": [
  {
   "cell_type": "code",
   "execution_count": 1,
   "metadata": {},
   "outputs": [],
   "source": [
    "def part_1_solution(change_list):\n",
    "    frequency = 0\n",
    "    for raw_change in change_list:\n",
    "        change = int(raw_change)\n",
    "        frequency += change\n",
    "    \n",
    "    return frequency"
   ]
  },
  {
   "cell_type": "code",
   "execution_count": 2,
   "metadata": {},
   "outputs": [
    {
     "name": "stdout",
     "output_type": "stream",
     "text": [
      "Test passed\n"
     ]
    }
   ],
   "source": [
    "assert(part_1_solution(\"+1, -2, +3, +1\".split(\",\")) == 3)\n",
    "assert(part_1_solution(\"+1, +1, +1\".split(\",\")) == 3)\n",
    "assert(part_1_solution(\"+1, +1, -2\".split(\",\")) == 0)\n",
    "assert(part_1_solution(\"-1, -2, -3\".split(\",\")) == -6)\n",
    "print(\"Test passed\")"
   ]
  },
  {
   "cell_type": "code",
   "execution_count": 3,
   "metadata": {},
   "outputs": [
    {
     "name": "stdout",
     "output_type": "stream",
     "text": [
      "574\n"
     ]
    }
   ],
   "source": [
    "with open(\"inputs/Day_01.txt\") as f:\n",
    "    input_data = f.readlines()\n",
    "    \n",
    "print(part_1_solution(input_data))"
   ]
  },
  {
   "cell_type": "code",
   "execution_count": 4,
   "metadata": {},
   "outputs": [],
   "source": [
    "from collections import Counter\n",
    "\n",
    "def part_2_solution(change_list):\n",
    "    frequency = 0\n",
    "    occurrence = Counter()\n",
    "    occurrence[frequency] += 1\n",
    "    while True:\n",
    "        \n",
    "        for raw_change in change_list:\n",
    "            change = int(raw_change)\n",
    "            frequency += change\n",
    "            \n",
    "            occurrence[frequency] += 1\n",
    "            \n",
    "            if occurrence[frequency] == 2:\n",
    "                return frequency"
   ]
  },
  {
   "cell_type": "code",
   "execution_count": 5,
   "metadata": {},
   "outputs": [
    {
     "name": "stdout",
     "output_type": "stream",
     "text": [
      "Test passed\n"
     ]
    }
   ],
   "source": [
    "assert(part_2_solution(\"+1, -2, +3, +1\".split(\",\")) == 2)\n",
    "assert(part_2_solution(\"+1, -1\".split(\",\")) == 0)\n",
    "assert(part_2_solution(\"+3, +3, +4, -2, -4\".split(\",\")) == 10)\n",
    "assert(part_2_solution(\"-6, +3, +8, +5, -6\".split(\",\")) == 5)\n",
    "assert(part_2_solution(\"+7, +7, -2, -7, -4\".split(\",\")) == 14)\n",
    "print(\"Test passed\")"
   ]
  },
  {
   "cell_type": "code",
   "execution_count": 6,
   "metadata": {},
   "outputs": [
    {
     "name": "stdout",
     "output_type": "stream",
     "text": [
      "452\n"
     ]
    }
   ],
   "source": [
    "print(part_2_solution(input_data))"
   ]
  },
  {
   "cell_type": "code",
   "execution_count": null,
   "metadata": {},
   "outputs": [],
   "source": []
  }
 ],
 "metadata": {
  "kernelspec": {
   "display_name": "Python 3",
   "language": "python",
   "name": "python3"
  },
  "language_info": {
   "codemirror_mode": {
    "name": "ipython",
    "version": 3
   },
   "file_extension": ".py",
   "mimetype": "text/x-python",
   "name": "python",
   "nbconvert_exporter": "python",
   "pygments_lexer": "ipython3",
   "version": "3.6.1"
  }
 },
 "nbformat": 4,
 "nbformat_minor": 2
}
