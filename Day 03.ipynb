{
 "cells": [
  {
   "cell_type": "code",
   "execution_count": 1,
   "metadata": {},
   "outputs": [],
   "source": [
    "import re\n",
    "\n",
    "def parse_claim(raw_claim):\n",
    "    regex = r\"#(\\S+)\\s+@\\s+(\\S+):\\s+(\\S+)\"\n",
    "    claim_id, raw_start_point, raw_dimenions = re.findall(regex, raw_claim)[0]\n",
    "    start_point = tuple(map(int, raw_start_point.split(\",\")))\n",
    "    width, height = raw_dimenions.split(\"x\")\n",
    "    width = int(width)\n",
    "    height = int(height)\n",
    "    \n",
    "    return claim_id, claim_points_generator(start_point, width, height)\n",
    "\n",
    "def claim_points_generator(start_point, width, height):\n",
    "    for x in range(width):\n",
    "        for y in range(height):\n",
    "            yield (start_point[0] + x, start_point[1] + y)\n",
    "            \n",
    "def build_fabric_area(raw_claims):\n",
    "    fabric_area = dict()\n",
    "    \n",
    "    for raw_claim in raw_claims:\n",
    "        claim_id, claim_points = parse_claim(raw_claim)\n",
    "        for point in claim_points:\n",
    "            if point not in fabric_area:\n",
    "                fabric_area[point] = set()\n",
    "                \n",
    "            fabric_area[point].add(claim_id)\n",
    "\n",
    "    return fabric_area\n",
    "            \n",
    "def part_1_solution(input_list):\n",
    "    overlapping_points = 0\n",
    "    fabric_area = build_fabric_area(input_list)\n",
    "    \n",
    "    for point in fabric_area:\n",
    "        if len(fabric_area[point]) > 1:\n",
    "            overlapping_points += 1\n",
    "            \n",
    "    return overlapping_points"
   ]
  },
  {
   "cell_type": "code",
   "execution_count": 2,
   "metadata": {},
   "outputs": [
    {
     "name": "stdout",
     "output_type": "stream",
     "text": [
      "Test passed\n"
     ]
    }
   ],
   "source": [
    "test_input = \"\"\"#1 @ 1,3: 4x4\n",
    "#2 @ 3,1: 4x4\n",
    "#3 @ 5,5: 2x2\"\"\"\n",
    "assert(part_1_solution(test_input.splitlines()) == 4)\n",
    "print(\"Test passed\")"
   ]
  },
  {
   "cell_type": "code",
   "execution_count": 3,
   "metadata": {},
   "outputs": [],
   "source": [
    "with open(\"inputs/Day_03.txt\") as f:\n",
    "    puzzle_input = f.readlines()"
   ]
  },
  {
   "cell_type": "code",
   "execution_count": 4,
   "metadata": {},
   "outputs": [
    {
     "name": "stdout",
     "output_type": "stream",
     "text": [
      "Part 1 solution: 106501\n"
     ]
    }
   ],
   "source": [
    "print(f\"Part 1 solution: {part_1_solution(puzzle_input)}\")"
   ]
  },
  {
   "cell_type": "code",
   "execution_count": 5,
   "metadata": {},
   "outputs": [],
   "source": [
    "def part_2_solution(input_list):\n",
    "    fabric_area = build_fabric_area(input_list)\n",
    "    \n",
    "    # second pass to verify if clim is not overlapping\n",
    "    for raw_claim in input_list:\n",
    "        claim_id, claim_points = parse_claim(raw_claim)\n",
    "        for point in claim_points:\n",
    "            if len(fabric_area[point]) > 1:\n",
    "                # This is not a solution\n",
    "                break\n",
    "        else:\n",
    "            return claim_id\n",
    "    \n",
    "    raise Exception(\"No solution found\")"
   ]
  },
  {
   "cell_type": "code",
   "execution_count": 6,
   "metadata": {},
   "outputs": [
    {
     "name": "stdout",
     "output_type": "stream",
     "text": [
      "Test passed\n"
     ]
    }
   ],
   "source": [
    "test_input = \"\"\"#1 @ 1,3: 4x4\n",
    "#2 @ 3,1: 4x4\n",
    "#3 @ 5,5: 2x2\"\"\"\n",
    "assert(part_2_solution(test_input.splitlines()) == \"3\")\n",
    "print(\"Test passed\")"
   ]
  },
  {
   "cell_type": "code",
   "execution_count": 7,
   "metadata": {},
   "outputs": [
    {
     "name": "stdout",
     "output_type": "stream",
     "text": [
      "Part 2 solution: 632\n"
     ]
    }
   ],
   "source": [
    "print(f\"Part 2 solution: {part_2_solution(puzzle_input)}\")"
   ]
  },
  {
   "cell_type": "code",
   "execution_count": null,
   "metadata": {},
   "outputs": [],
   "source": []
  }
 ],
 "metadata": {
  "kernelspec": {
   "display_name": "Python 3",
   "language": "python",
   "name": "python3"
  },
  "language_info": {
   "codemirror_mode": {
    "name": "ipython",
    "version": 3
   },
   "file_extension": ".py",
   "mimetype": "text/x-python",
   "name": "python",
   "nbconvert_exporter": "python",
   "pygments_lexer": "ipython3",
   "version": "3.6.1"
  }
 },
 "nbformat": 4,
 "nbformat_minor": 2
}
