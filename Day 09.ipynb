{
 "cells": [
  {
   "cell_type": "code",
   "execution_count": 42,
   "metadata": {},
   "outputs": [],
   "source": [
    "import re\n",
    "from collections import defaultdict\n",
    "\n",
    "def parse_input(raw_input):\n",
    "    regex = r\"(\\S+) players; last marble is worth (\\S+) points\"\n",
    "    raw_players_num, raw_last_marble = re.findall(regex, raw_input)[0]\n",
    "    \n",
    "    return int(raw_players_num), int(raw_last_marble)\n",
    "\n",
    "class Marble:\n",
    "    def __init__(self, value):\n",
    "        self.value = value\n",
    "        self.next = None\n",
    "        self.prev = None\n",
    "        \n",
    "    def __str__(self):\n",
    "        return value\n",
    "        \n",
    "class MarblesCircle:\n",
    "    def __init__(self):\n",
    "        self.current_marble = Marble(0)\n",
    "        self.current_marble.next = self.current_marble\n",
    "        self.current_marble.prev = self.current_marble\n",
    "        \n",
    "    def add_marble(self, value):\n",
    "        new_marble = Marble(value)\n",
    "        \n",
    "        new_prev_marble = self.current_marble.next\n",
    "        new_next_marble = self.current_marble.next.next\n",
    "        \n",
    "        new_prev_marble.next = new_marble\n",
    "        new_marble.prev = new_prev_marble\n",
    "        \n",
    "        new_next_marble.prev = new_marble\n",
    "        new_marble.next = new_next_marble\n",
    "        \n",
    "        self.current_marble = new_marble\n",
    "        \n",
    "    def remove_marble(self):\n",
    "        marble_to_delete = self.current_marble\n",
    "        \n",
    "        for _ in range(7):\n",
    "            marble_to_delete = marble_to_delete.prev\n",
    "            \n",
    "        prev_marble = marble_to_delete.prev\n",
    "        next_marble = marble_to_delete.next\n",
    "        \n",
    "        prev_marble.next = next_marble\n",
    "        next_marble.prev = prev_marble\n",
    "        \n",
    "        marble_to_delete.next = None\n",
    "        marble_to_delete.prev = None\n",
    "        \n",
    "        self.current_marble = next_marble\n",
    "        \n",
    "        return marble_to_delete.value\n",
    "    \n",
    "    def print_marbles(self):\n",
    "        current_marble = self.current_marble\n",
    "        values = list()\n",
    "        values.append(current_marble.value)\n",
    "        \n",
    "        while current_marble.next != self.current_marble:\n",
    "            current_marble = current_marble.next\n",
    "            values.append(current_marble.value)\n",
    "        \n",
    "        print(values)\n",
    "\n",
    "def part_1_solution(puzzle_input):\n",
    "    circle = MarblesCircle()\n",
    "    players = defaultdict(int)\n",
    "    new_marble_value = 1\n",
    "    \n",
    "    players_num, last_marble_num = parse_input(puzzle_input)\n",
    "    \n",
    "    while True:\n",
    "        for player in range(1, players_num + 1):\n",
    "            if new_marble_value > last_marble_num:\n",
    "                return max(players.values())\n",
    "            \n",
    "            if new_marble_value % 23 == 0:\n",
    "                players[player] += new_marble_value\n",
    "                players[player] += circle.remove_marble()\n",
    "            else:\n",
    "                circle.add_marble(new_marble_value)\n",
    "                \n",
    "            new_marble_value += 1    "
   ]
  },
  {
   "cell_type": "code",
   "execution_count": 37,
   "metadata": {},
   "outputs": [
    {
     "name": "stdout",
     "output_type": "stream",
     "text": [
      "Tests passed\n"
     ]
    }
   ],
   "source": [
    "assert(part_1_solution(\"7 players; last marble is worth 25 points\") == 32)\n",
    "assert(part_1_solution(\"10 players; last marble is worth 1618 points\") == 8317)\n",
    "assert(part_1_solution(\"13 players; last marble is worth 7999 points\") == 146373)\n",
    "assert(part_1_solution(\"17 players; last marble is worth 1104 points\") == 2764)\n",
    "assert(part_1_solution(\"21 players; last marble is worth 6111 points\") == 54718)\n",
    "assert(part_1_solution(\"30 players; last marble is worth 5807 points\") == 37305)\n",
    "print(\"Tests passed\")"
   ]
  },
  {
   "cell_type": "code",
   "execution_count": 40,
   "metadata": {},
   "outputs": [
    {
     "name": "stdout",
     "output_type": "stream",
     "text": [
      "Part 1 solution: 412959\n"
     ]
    }
   ],
   "source": [
    "print(f\"Part 1 solution: {part_1_solution('435 players; last marble is worth 71184 points')}\")"
   ]
  },
  {
   "cell_type": "code",
   "execution_count": 41,
   "metadata": {},
   "outputs": [
    {
     "name": "stdout",
     "output_type": "stream",
     "text": [
      "Part 2 solution: 3333662986\n"
     ]
    }
   ],
   "source": [
    "print(f\"Part 2 solution: {part_1_solution('435 players; last marble is worth 7118400 points')}\")"
   ]
  },
  {
   "cell_type": "code",
   "execution_count": 43,
   "metadata": {},
   "outputs": [
    {
     "name": "stdout",
     "output_type": "stream",
     "text": [
      "174 ms ± 11.9 ms per loop (mean ± std. dev. of 7 runs, 1 loop each)\n"
     ]
    }
   ],
   "source": [
    "%%timeit\n",
    "part_1_solution('435 players; last marble is worth 71184 points')"
   ]
  },
  {
   "cell_type": "code",
   "execution_count": 44,
   "metadata": {},
   "outputs": [
    {
     "name": "stdout",
     "output_type": "stream",
     "text": [
      "19.6 s ± 4.88 s per loop (mean ± std. dev. of 7 runs, 1 loop each)\n"
     ]
    }
   ],
   "source": [
    "%%timeit\n",
    "part_1_solution('435 players; last marble is worth 7118400 points')"
   ]
  },
  {
   "cell_type": "code",
   "execution_count": null,
   "metadata": {
    "collapsed": true
   },
   "outputs": [],
   "source": []
  }
 ],
 "metadata": {
  "kernelspec": {
   "display_name": "Python 3",
   "language": "python",
   "name": "python3"
  },
  "language_info": {
   "codemirror_mode": {
    "name": "ipython",
    "version": 3
   },
   "file_extension": ".py",
   "mimetype": "text/x-python",
   "name": "python",
   "nbconvert_exporter": "python",
   "pygments_lexer": "ipython3",
   "version": "3.6.2"
  }
 },
 "nbformat": 4,
 "nbformat_minor": 2
}
