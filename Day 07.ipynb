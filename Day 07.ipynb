{
 "cells": [
  {
   "cell_type": "code",
   "execution_count": 113,
   "metadata": {
    "collapsed": true
   },
   "outputs": [],
   "source": [
    "import re\n",
    "import networkx as nx \n",
    "\n",
    "def parse_instruction(raw_instruction):\n",
    "    regex = r\"Step (\\S) must be finished before step (\\S) can begin.\"\n",
    "    node_from, node_to = re.findall(regex, raw_instruction)[0]\n",
    "    \n",
    "    return node_from, node_to\n",
    "\n",
    "def build_graph(raw_instruction_list):\n",
    "    graph = nx.DiGraph()\n",
    "    \n",
    "    for raw_instruction in raw_instruction_list:\n",
    "        node_from, node_to = parse_instruction(raw_instruction)\n",
    "        graph.add_edge(node_from, node_to)\n",
    "    \n",
    "    return graph\n",
    "\n",
    "def alphabetical_topological_sort(graph):\n",
    "    indegree_map = dict()\n",
    "    zero_indegree = list()\n",
    "    all_indegree_map = graph.in_degree()\n",
    "    for node in all_indegree_map:\n",
    "        if all_indegree_map[node] > 0:\n",
    "            indegree_map[node] = all_indegree_map[node]\n",
    "        else:\n",
    "            zero_indegree.append(node)\n",
    "\n",
    "    while zero_indegree:\n",
    "        zero_indegree=sorted(zero_indegree, reverse=True)\n",
    "        node = zero_indegree.pop()\n",
    "\n",
    "        for _, child in graph.edges(node):\n",
    "            indegree_map[child] -= 1\n",
    "            \n",
    "            if indegree_map[child] == 0:\n",
    "                zero_indegree.append(child)\n",
    "                del indegree_map[child]\n",
    "        \n",
    "        yield node\n",
    "\n",
    "def part_1_solution(input_list):\n",
    "    graph = build_graph(input_list)\n",
    "    solution = \"\".join(alphabetical_topological_sort(graph))\n",
    "\n",
    "    return solution"
   ]
  },
  {
   "cell_type": "code",
   "execution_count": 115,
   "metadata": {},
   "outputs": [
    {
     "name": "stdout",
     "output_type": "stream",
     "text": [
      "Test passed\n"
     ]
    }
   ],
   "source": [
    "test_input = \"\"\"Step C must be finished before step A can begin.\n",
    "Step C must be finished before step F can begin.\n",
    "Step A must be finished before step B can begin.\n",
    "Step A must be finished before step D can begin.\n",
    "Step B must be finished before step E can begin.\n",
    "Step D must be finished before step E can begin.\n",
    "Step F must be finished before step E can begin.\"\"\"\n",
    "\n",
    "assert(part_1_solution(test_input.splitlines()) == 'CABDFE')\n",
    "print(\"Test passed\")"
   ]
  },
  {
   "cell_type": "code",
   "execution_count": 116,
   "metadata": {
    "collapsed": true
   },
   "outputs": [],
   "source": [
    "with open(\"inputs/Day_07.txt\") as f:\n",
    "    puzzle_input = f.readlines()"
   ]
  },
  {
   "cell_type": "code",
   "execution_count": 117,
   "metadata": {},
   "outputs": [
    {
     "name": "stdout",
     "output_type": "stream",
     "text": [
      "Part 1 solution: FDSEGJLPKNRYOAMQIUHTCVWZXB\n"
     ]
    }
   ],
   "source": [
    "print(f\"Part 1 solution: {part_1_solution(puzzle_input)}\")"
   ]
  },
  {
   "cell_type": "code",
   "execution_count": 118,
   "metadata": {
    "collapsed": true
   },
   "outputs": [],
   "source": [
    "def simulate_graph_execution(graph, number_of_workers):\n",
    "    avaliable_nodes = list()\n",
    "    current_tasks = list()\n",
    "    done_nodes = list()\n",
    "    elapsed_ticks = 0\n",
    "    indegree_map = graph.in_degree()\n",
    "    not_processed_nodes = set(graph.nodes())\n",
    "\n",
    "    for node in indegree_map:\n",
    "        if indegree_map[node] == 0:\n",
    "            avaliable_nodes.append(node)\n",
    "\n",
    "    while not_processed_nodes:\n",
    "        # Sort and then pop to get nodes in alphabetical order (when tie)\n",
    "        avaliable_nodes = sorted(avaliable_nodes, reverse=True)\n",
    "\n",
    "        # Get new tasks in possible\n",
    "        while len(current_tasks) < number_of_workers:\n",
    "            if not avaliable_nodes:\n",
    "                break\n",
    "\n",
    "            node = avaliable_nodes.pop()\n",
    "            new_task = (node, ord(node) - 64 + 60)\n",
    "            current_tasks.append(new_task)\n",
    "\n",
    "        # Process current tasks until some is done\n",
    "        while not done_nodes:\n",
    "            # Update times for all current tasks\n",
    "            current_tasks = list(map(lambda task: (task[0], task[1] - 1), current_tasks))\n",
    "            # Check if some of the tasks are done\n",
    "            done_nodes = [node for node, remaining_time in current_tasks if remaining_time == 0]\n",
    "            # Remove done tasks from current tasks\n",
    "            current_tasks = [(node, remaining_time) for node, remaining_time in current_tasks\n",
    "                             if remaining_time != 0]\n",
    "            elapsed_ticks += 1\n",
    "\n",
    "        # Search for avaliable nodes\n",
    "        while done_nodes:\n",
    "            node = done_nodes.pop()\n",
    "            not_processed_nodes.remove(node)\n",
    "\n",
    "            for _, child in graph.edges(node):\n",
    "                indegree_map[child] -= 1\n",
    "\n",
    "                if indegree_map[child] == 0:\n",
    "                    avaliable_nodes.append(child)\n",
    "\n",
    "    return elapsed_ticks\n",
    "\n",
    "\n",
    "def part_2_solution(input_list, number_of_workers):\n",
    "    graph = build_graph(input_list)\n",
    "\n",
    "    return simulate_graph_execution(graph, number_of_workers)"
   ]
  },
  {
   "cell_type": "code",
   "execution_count": 119,
   "metadata": {},
   "outputs": [
    {
     "name": "stdout",
     "output_type": "stream",
     "text": [
      "Part 2 solution: 1000\n"
     ]
    }
   ],
   "source": [
    "print(f\"Part 2 solution: {part_2_solution(puzzle_input, 5)}\")"
   ]
  },
  {
   "cell_type": "code",
   "execution_count": 120,
   "metadata": {},
   "outputs": [
    {
     "name": "stdout",
     "output_type": "stream",
     "text": [
      "864 µs ± 49.8 µs per loop (mean ± std. dev. of 7 runs, 1000 loops each)\n"
     ]
    }
   ],
   "source": [
    "%%timeit\n",
    "part_1_solution(puzzle_input)"
   ]
  },
  {
   "cell_type": "code",
   "execution_count": 122,
   "metadata": {},
   "outputs": [
    {
     "name": "stdout",
     "output_type": "stream",
     "text": [
      "7.02 ms ± 883 µs per loop (mean ± std. dev. of 7 runs, 100 loops each)\n"
     ]
    }
   ],
   "source": [
    "%%timeit\n",
    "part_2_solution(puzzle_input, 5)"
   ]
  },
  {
   "cell_type": "code",
   "execution_count": null,
   "metadata": {
    "collapsed": true
   },
   "outputs": [],
   "source": []
  }
 ],
 "metadata": {
  "kernelspec": {
   "display_name": "Python 3",
   "language": "python",
   "name": "python3"
  },
  "language_info": {
   "codemirror_mode": {
    "name": "ipython",
    "version": 3
   },
   "file_extension": ".py",
   "mimetype": "text/x-python",
   "name": "python",
   "nbconvert_exporter": "python",
   "pygments_lexer": "ipython3",
   "version": "3.6.2"
  }
 },
 "nbformat": 4,
 "nbformat_minor": 2
}
