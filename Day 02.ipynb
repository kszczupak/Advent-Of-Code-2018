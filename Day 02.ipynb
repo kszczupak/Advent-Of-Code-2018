{
 "cells": [
  {
   "cell_type": "code",
   "execution_count": 1,
   "metadata": {
    "collapsed": true
   },
   "outputs": [],
   "source": [
    "from collections import Counter\n",
    "\n",
    "def part_1_solution(input_array):\n",
    "    occurance_of_2_letters = 0\n",
    "    occurance_of_3_letters = 0\n",
    "    \n",
    "    for box in input_array:\n",
    "        counter = Counter(box)\n",
    "        \n",
    "        if 3 in counter.values():\n",
    "            occurance_of_3_letters += 1\n",
    "            \n",
    "        if 2 in counter.values():\n",
    "            occurance_of_2_letters += 1\n",
    "            \n",
    "    return occurance_of_2_letters * occurance_of_3_letters"
   ]
  },
  {
   "cell_type": "code",
   "execution_count": 2,
   "metadata": {},
   "outputs": [
    {
     "name": "stdout",
     "output_type": "stream",
     "text": [
      "Test passed\n"
     ]
    }
   ],
   "source": [
    "test_input = \"\"\"abcdef\n",
    "bababc\n",
    "abbcde\n",
    "abcccd\n",
    "aabcdd\n",
    "abcdee\n",
    "ababab\"\"\"\n",
    "assert(part_1_solution(test_input.splitlines()) == 12)\n",
    "print(\"Test passed\")"
   ]
  },
  {
   "cell_type": "code",
   "execution_count": 3,
   "metadata": {
    "collapsed": true
   },
   "outputs": [],
   "source": [
    "with open(\"inputs/Day_02.txt\") as f:\n",
    "    puzzle_input = f.readlines()"
   ]
  },
  {
   "cell_type": "code",
   "execution_count": 4,
   "metadata": {},
   "outputs": [
    {
     "data": {
      "text/plain": [
       "5727"
      ]
     },
     "execution_count": 4,
     "metadata": {},
     "output_type": "execute_result"
    }
   ],
   "source": [
    "part_1_solution(puzzle_input)"
   ]
  },
  {
   "cell_type": "code",
   "execution_count": 5,
   "metadata": {
    "collapsed": true
   },
   "outputs": [],
   "source": [
    "def part_2_solution(input_list):\n",
    "    for index, candidate_a in enumerate(input_list):\n",
    "        candidate_a_set = set(candidate_a)\n",
    "        \n",
    "        for candidate_b in input_list[index + 1:]:\n",
    "            candidate_b_set = set(candidate_b)\n",
    "            \n",
    "            set_diff = candidate_a_set - candidate_b_set\n",
    "            \n",
    "            if len(set_diff) == 1:\n",
    "                # Possible solution, now need to verify if order is correct\n",
    "                is_valid, solution = is_solution(candidate_a, candidate_b)\n",
    "                if is_valid:\n",
    "                    return solution\n",
    "\n",
    "def is_solution(string_a, string_b):\n",
    "    differences = 0\n",
    "    diff_index = 0\n",
    "    for index, (letter_a, letter_b) in enumerate(zip(string_a, string_b)):\n",
    "        if letter_a != letter_b:\n",
    "            differences += 1\n",
    "            diff_index = index\n",
    "            \n",
    "        if differences > 1:\n",
    "            return False, 0\n",
    "    \n",
    "    return True, string_a[:diff_index] + string_a[diff_index + 1:]\n",
    "                \n",
    "        "
   ]
  },
  {
   "cell_type": "code",
   "execution_count": 6,
   "metadata": {},
   "outputs": [
    {
     "name": "stdout",
     "output_type": "stream",
     "text": [
      "Test passed\n"
     ]
    }
   ],
   "source": [
    "test_input = \"\"\"abcde\n",
    "fghij\n",
    "klmno\n",
    "pqrst\n",
    "fguij\n",
    "axcye\n",
    "wvxyz\"\"\"\n",
    "\n",
    "assert(part_2_solution(test_input.splitlines()) == \"fgij\")\n",
    "print(\"Test passed\")"
   ]
  },
  {
   "cell_type": "code",
   "execution_count": 7,
   "metadata": {},
   "outputs": [
    {
     "data": {
      "text/plain": [
       "'uwfmdjxyxlbgnrotcfpvswaqh\\n'"
      ]
     },
     "execution_count": 7,
     "metadata": {},
     "output_type": "execute_result"
    }
   ],
   "source": [
    "part_2_solution(puzzle_input)"
   ]
  },
  {
   "cell_type": "code",
   "execution_count": null,
   "metadata": {
    "collapsed": true
   },
   "outputs": [],
   "source": []
  }
 ],
 "metadata": {
  "kernelspec": {
   "display_name": "Python 3",
   "language": "python",
   "name": "python3"
  },
  "language_info": {
   "codemirror_mode": {
    "name": "ipython",
    "version": 3
   },
   "file_extension": ".py",
   "mimetype": "text/x-python",
   "name": "python",
   "nbconvert_exporter": "python",
   "pygments_lexer": "ipython3",
   "version": "3.6.2"
  }
 },
 "nbformat": 4,
 "nbformat_minor": 2
}
