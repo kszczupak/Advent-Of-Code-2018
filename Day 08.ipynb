{
 "cells": [
  {
   "cell_type": "code",
   "execution_count": 19,
   "metadata": {
    "collapsed": true
   },
   "outputs": [],
   "source": [
    "def parse(data):\n",
    "    children, metas = data[:2]\n",
    "    data = data[2:]\n",
    "    totals = 0\n",
    "\n",
    "    for _ in range(children):\n",
    "        total, data = parse(data)\n",
    "        totals += total\n",
    "\n",
    "    totals += sum(data[:metas])\n",
    "\n",
    "    return totals, data[metas:]\n",
    "\n",
    "def part_1_solution(puzzle_input):\n",
    "    data = [int(x) for x in puzzle_input.split()]\n",
    "    total, _ = parse(data)\n",
    "    \n",
    "    return total"
   ]
  },
  {
   "cell_type": "code",
   "execution_count": 20,
   "metadata": {},
   "outputs": [
    {
     "name": "stdout",
     "output_type": "stream",
     "text": [
      "Test passed\n"
     ]
    }
   ],
   "source": [
    "test_input = \"2 3 0 3 10 11 12 1 1 0 1 99 2 1 1 2\"\n",
    "assert(part_1_solution(test_input) == 138)\n",
    "print(\"Test passed\")"
   ]
  },
  {
   "cell_type": "code",
   "execution_count": 21,
   "metadata": {
    "collapsed": true
   },
   "outputs": [],
   "source": [
    "with open(\"inputs/Day_08.txt\") as f:\n",
    "    puzzle_input = f.read()"
   ]
  },
  {
   "cell_type": "code",
   "execution_count": 22,
   "metadata": {},
   "outputs": [
    {
     "name": "stdout",
     "output_type": "stream",
     "text": [
      "Part 1 solution: 42798\n"
     ]
    }
   ],
   "source": [
    "print(f\"Part 1 solution: {part_1_solution(puzzle_input)}\")"
   ]
  },
  {
   "cell_type": "code",
   "execution_count": 23,
   "metadata": {},
   "outputs": [
    {
     "name": "stdout",
     "output_type": "stream",
     "text": [
      "148 ms ± 8.4 ms per loop (mean ± std. dev. of 7 runs, 10 loops each)\n"
     ]
    }
   ],
   "source": [
    "%%timeit\n",
    "part_1_solution(puzzle_input)"
   ]
  },
  {
   "cell_type": "code",
   "execution_count": 15,
   "metadata": {
    "collapsed": true
   },
   "outputs": [],
   "source": [
    "def parse(data):\n",
    "    children, metas = data[:2]\n",
    "    data = data[2:]\n",
    "    scores = list()\n",
    "    totals = 0\n",
    "\n",
    "    for i in range(children):\n",
    "        total, score, data = parse(data)\n",
    "        totals += total\n",
    "        scores.append(score)\n",
    "\n",
    "    totals += sum(data[:metas])\n",
    "\n",
    "    if children == 0:\n",
    "        return (totals, sum(data[:metas]), data[metas:])\n",
    "    else:\n",
    "        return (\n",
    "            totals,\n",
    "            sum(scores[k - 1] for k in data[:metas] if k > 0 and k <= len(scores)),\n",
    "            data[metas:]\n",
    "        )\n",
    "\n",
    "\n",
    "def part_2_solution(puzzle_input):\n",
    "    data = [int(x) for x in puzzle_input.split()]\n",
    "    total, value, remaining = parse(data)\n",
    "    \n",
    "    return value"
   ]
  },
  {
   "cell_type": "code",
   "execution_count": 16,
   "metadata": {},
   "outputs": [
    {
     "name": "stdout",
     "output_type": "stream",
     "text": [
      "Part 2 solution: 23798\n"
     ]
    }
   ],
   "source": [
    "print(f\"Part 2 solution: {part_2_solution(puzzle_input)}\")"
   ]
  },
  {
   "cell_type": "code",
   "execution_count": 18,
   "metadata": {},
   "outputs": [
    {
     "name": "stdout",
     "output_type": "stream",
     "text": [
      "170 ms ± 25.3 ms per loop (mean ± std. dev. of 7 runs, 10 loops each)\n"
     ]
    }
   ],
   "source": [
    "%%timeit\n",
    "part_2_solution(puzzle_input)"
   ]
  },
  {
   "cell_type": "code",
   "execution_count": null,
   "metadata": {
    "collapsed": true
   },
   "outputs": [],
   "source": []
  }
 ],
 "metadata": {
  "kernelspec": {
   "display_name": "Python 3",
   "language": "python",
   "name": "python3"
  },
  "language_info": {
   "codemirror_mode": {
    "name": "ipython",
    "version": 3
   },
   "file_extension": ".py",
   "mimetype": "text/x-python",
   "name": "python",
   "nbconvert_exporter": "python",
   "pygments_lexer": "ipython3",
   "version": "3.6.2"
  }
 },
 "nbformat": 4,
 "nbformat_minor": 2
}
