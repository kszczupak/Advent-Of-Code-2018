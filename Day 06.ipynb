{
 "cells": [
  {
   "cell_type": "code",
   "execution_count": 14,
   "metadata": {},
   "outputs": [],
   "source": [
    "def parse_points(raw_points):\n",
    "    points = list()\n",
    "\n",
    "    for raw_point in raw_points:\n",
    "        point = tuple(map(int, raw_point.strip().split(\",\")))\n",
    "        points.append(point)\n",
    "    \n",
    "    return points\n",
    "\n",
    "def get_grid_dimentions(points):\n",
    "    return max(points, key=lambda p: p[0])[0], max(points, key=lambda p: p[1])[1]\n",
    "\n",
    "def get_manhatan_distance(point, other_point):\n",
    "    return abs(point[0] - other_point[0]) + abs(point[1] - other_point[1])\n",
    "\n",
    "def build_grid(points, grid_dimentions):\n",
    "    width, height = grid_dimentions\n",
    "    grid = dict()\n",
    "    \n",
    "    for point in points:\n",
    "        for x in range(width + 1):\n",
    "            for y in range(height + 1):\n",
    "                examined_point = (x, y)\n",
    "                distance = get_manhatan_distance(point, examined_point)\n",
    "                if examined_point not in grid:\n",
    "                    grid[examined_point] = set()\n",
    "                    \n",
    "                grid[examined_point].add((distance, point))\n",
    "                \n",
    "    return grid\n",
    "\n",
    "def detect_grid_boundary(point, dimentions):\n",
    "    if point[0] in [0, dimentions[0]]:\n",
    "        return True\n",
    "    \n",
    "    if point[1] in [0, dimentions[1]]:\n",
    "        return True\n",
    "    \n",
    "    return False\n",
    "\n",
    "def get_claimed_areas(grid, grid_dimentions):\n",
    "    claimed_areas = dict()\n",
    "    \n",
    "    for grid_point in grid:\n",
    "        grid_point_distances = sorted(grid[grid_point], key=lambda p: p[0])\n",
    "        if grid_point_distances[0][0] == grid_point_distances[1][0]:\n",
    "            # point is in the same distance for a least 2 input points\n",
    "            # so it should not be claimed by any of them\n",
    "            continue\n",
    "        \n",
    "        distance, input_point = grid_point_distances[0]\n",
    "        \n",
    "        if input_point not in claimed_areas:\n",
    "            claimed_areas[input_point] = set()\n",
    "        \n",
    "        if claimed_areas[input_point] == \"INF\":\n",
    "            # This point has infinite area; there is no point to process it further\n",
    "            continue\n",
    "        \n",
    "        if detect_grid_boundary(grid_point, grid_dimentions):\n",
    "            claimed_areas[input_point] = \"INF\"\n",
    "            continue\n",
    "            \n",
    "        claimed_areas[input_point].add(grid_point)\n",
    "        \n",
    "    return claimed_areas\n",
    "\n",
    "def get_finite_areas(claimed_areas):\n",
    "    finite_areas = list()\n",
    "    \n",
    "    for area in claimed_areas:\n",
    "        if claimed_areas[area] != \"INF\":\n",
    "            finite_areas.append(claimed_areas[area])\n",
    "\n",
    "    return finite_areas\n",
    "\n",
    "def part_1_solution(input_list):\n",
    "    points = parse_points(input_list)\n",
    "    grid_dimentions = get_grid_dimentions(points)\n",
    "    grid = build_grid(points, grid_dimentions)\n",
    "    claimed_areas = get_claimed_areas(grid, grid_dimentions)\n",
    "    finite_areas = get_finite_areas(claimed_areas)\n",
    "    \n",
    "    return len(max(finite_areas, key=lambda area: len(area)))"
   ]
  },
  {
   "cell_type": "code",
   "execution_count": 16,
   "metadata": {},
   "outputs": [
    {
     "name": "stdout",
     "output_type": "stream",
     "text": [
      "Test passed\n"
     ]
    }
   ],
   "source": [
    "test_input = \"\"\"1, 1\n",
    "1, 6\n",
    "8, 3\n",
    "3, 4\n",
    "5, 5\n",
    "8, 9\"\"\"\n",
    "\n",
    "assert(part_1_solution(test_input.splitlines()) == 17)\n",
    "print(\"Test passed\")"
   ]
  },
  {
   "cell_type": "code",
   "execution_count": 17,
   "metadata": {},
   "outputs": [],
   "source": [
    "with open(\"inputs/Day_06.txt\") as f:\n",
    "    puzzle_input = f.readlines()"
   ]
  },
  {
   "cell_type": "code",
   "execution_count": 18,
   "metadata": {},
   "outputs": [
    {
     "name": "stdout",
     "output_type": "stream",
     "text": [
      "Part 1 solution: 4976\n"
     ]
    }
   ],
   "source": [
    "print(f\"Part 1 solution: {part_1_solution(puzzle_input)}\")"
   ]
  },
  {
   "cell_type": "code",
   "execution_count": 22,
   "metadata": {},
   "outputs": [],
   "source": [
    "def get_region(points, grid_dimentions):\n",
    "    width, height = grid_dimentions\n",
    "    region = set()\n",
    "    distance_limit = 10000\n",
    "    \n",
    "    for x in range(width + 1):\n",
    "        for y in range(height + 1):\n",
    "            examined_point = (x, y)\n",
    "            examined_point_distances = 0\n",
    "            for point in points:\n",
    "                examined_point_distances += get_manhatan_distance(point, examined_point)\n",
    "                    \n",
    "            if examined_point_distances < distance_limit:\n",
    "                region.add(examined_point)\n",
    "                \n",
    "    return region\n",
    "\n",
    "def part_2_solution(input_list):\n",
    "    points = parse_points(input_list)\n",
    "    grid_dimentions = get_grid_dimentions(points)\n",
    "    region = get_region(points, grid_dimentions)\n",
    "    \n",
    "    return len(region)"
   ]
  },
  {
   "cell_type": "code",
   "execution_count": 23,
   "metadata": {},
   "outputs": [
    {
     "name": "stdout",
     "output_type": "stream",
     "text": [
      "Part 2 solution: 46462\n"
     ]
    }
   ],
   "source": [
    "print(f\"Part 2 solution: {part_2_solution(puzzle_input)}\")"
   ]
  },
  {
   "cell_type": "code",
   "execution_count": 24,
   "metadata": {},
   "outputs": [
    {
     "name": "stdout",
     "output_type": "stream",
     "text": [
      "15.5 s ± 1.79 s per loop (mean ± std. dev. of 7 runs, 1 loop each)\n"
     ]
    }
   ],
   "source": [
    "%%timeit\n",
    "part_1_solution(puzzle_input)"
   ]
  },
  {
   "cell_type": "code",
   "execution_count": 25,
   "metadata": {},
   "outputs": [
    {
     "name": "stdout",
     "output_type": "stream",
     "text": [
      "5.34 s ± 429 ms per loop (mean ± std. dev. of 7 runs, 1 loop each)\n"
     ]
    }
   ],
   "source": [
    "%%timeit\n",
    "part_2_solution(puzzle_input)"
   ]
  },
  {
   "cell_type": "code",
   "execution_count": null,
   "metadata": {},
   "outputs": [],
   "source": []
  }
 ],
 "metadata": {
  "kernelspec": {
   "display_name": "Python 3",
   "language": "python",
   "name": "python3"
  },
  "language_info": {
   "codemirror_mode": {
    "name": "ipython",
    "version": 3
   },
   "file_extension": ".py",
   "mimetype": "text/x-python",
   "name": "python",
   "nbconvert_exporter": "python",
   "pygments_lexer": "ipython3",
   "version": "3.6.1"
  }
 },
 "nbformat": 4,
 "nbformat_minor": 2
}
