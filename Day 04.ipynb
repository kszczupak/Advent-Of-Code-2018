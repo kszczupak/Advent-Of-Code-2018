{
 "cells": [
  {
   "cell_type": "code",
   "execution_count": 1,
   "metadata": {},
   "outputs": [],
   "source": [
    "import re\n",
    "from collections import Counter\n",
    "\n",
    "def parse_log_line(log_line):\n",
    "    regex = r\"\\[(\\S+)\\s+(\\S+)\\]\\s+(.+)\"\n",
    "    \n",
    "    # date, time, action\n",
    "    return re.findall(regex, log_line)[0]\n",
    "\n",
    "class Guard:\n",
    "    def __init__(self, guard_id):\n",
    "        self.guard_id = int(guard_id)\n",
    "        self.sleep_time = 0\n",
    "        self._sleep_freq = Counter()\n",
    "        self._current_sleep_start_minute = None\n",
    "        \n",
    "    def start_sleeping(self, raw_time):\n",
    "        self._current_sleep_start_minute = self._raw_time_to_minute(raw_time)\n",
    "    \n",
    "    def stop_sleeping(self, raw_time):\n",
    "        wake_minute = self._raw_time_to_minute(raw_time)\n",
    "        \n",
    "        self.sleep_time += wake_minute - self._current_sleep_start_minute\n",
    "        self._sleep_freq.update(range(self._current_sleep_start_minute, wake_minute))\n",
    "    \n",
    "    def get_most_common_sleep_minute(self):\n",
    "        return self._sleep_freq.most_common(1)[0][0]\n",
    "    \n",
    "    def get_most_common_sleep_minute_freq(self):\n",
    "        if self.sleep_time == 0:\n",
    "            return 0\n",
    "        \n",
    "        return self._sleep_freq.most_common(1)[0][1]\n",
    "    \n",
    "    def _raw_time_to_minute(self, raw_time):\n",
    "        return int(raw_time.split(\":\")[1])\n",
    "    \n",
    "def parse_guards_log(raw_log):\n",
    "    guards = dict()\n",
    "    current_guard = None\n",
    "    \n",
    "    for log_line in sorted(raw_log):\n",
    "        date, time, action = parse_log_line(log_line)\n",
    "        \n",
    "        if action == \"falls asleep\":\n",
    "            current_guard.start_sleeping(time)\n",
    "        elif action == \"wakes up\":\n",
    "            current_guard.stop_sleeping(time)\n",
    "        elif action.startswith(\"Guard\"):\n",
    "            guard_id = re.search(r\"\\d+\", action).group()\n",
    "            if guard_id not in guards:\n",
    "                guards[guard_id] = Guard(guard_id)\n",
    "            \n",
    "            current_guard = guards[guard_id]\n",
    "        else:\n",
    "            raise Exception(f\"Not allowed action: {action}\")\n",
    "            \n",
    "    return guards.values()\n",
    "            \n",
    "def part_1_solution(input_list):\n",
    "    guards = parse_guards_log(input_list)\n",
    "    \n",
    "    searched_guard = sorted(guards, key=lambda g: g.sleep_time, reverse=True)[0]\n",
    "    \n",
    "    return searched_guard.guard_id * searched_guard.get_most_common_sleep_minute()\n",
    "    "
   ]
  },
  {
   "cell_type": "code",
   "execution_count": 2,
   "metadata": {},
   "outputs": [
    {
     "name": "stdout",
     "output_type": "stream",
     "text": [
      "Test passed\n"
     ]
    }
   ],
   "source": [
    "test_input=\"\"\"[1518-11-01 00:00] Guard #10 begins shift\n",
    "[1518-11-01 00:05] falls asleep\n",
    "[1518-11-01 00:25] wakes up\n",
    "[1518-11-02 00:40] falls asleep\n",
    "[1518-11-01 00:30] falls asleep\n",
    "[1518-11-01 00:55] wakes up\n",
    "[1518-11-03 00:29] wakes up\n",
    "[1518-11-01 23:58] Guard #99 begins shift\n",
    "[1518-11-02 00:50] wakes up\n",
    "[1518-11-03 00:05] Guard #10 begins shift\n",
    "[1518-11-03 00:24] falls asleep\n",
    "[1518-11-04 00:02] Guard #99 begins shift\n",
    "[1518-11-04 00:36] falls asleep\n",
    "[1518-11-04 00:46] wakes up\n",
    "[1518-11-05 00:03] Guard #99 begins shift\n",
    "[1518-11-05 00:45] falls asleep\n",
    "[1518-11-05 00:55] wakes up\"\"\"\n",
    "\n",
    "assert(part_1_solution(test_input.splitlines()) == 240)\n",
    "print(\"Test passed\")"
   ]
  },
  {
   "cell_type": "code",
   "execution_count": 3,
   "metadata": {},
   "outputs": [],
   "source": [
    "with open(\"inputs/Day_04.txt\") as f:\n",
    "    puzzle_input = f.readlines()"
   ]
  },
  {
   "cell_type": "code",
   "execution_count": 4,
   "metadata": {},
   "outputs": [
    {
     "name": "stdout",
     "output_type": "stream",
     "text": [
      "Part 1 solution: 39698\n"
     ]
    }
   ],
   "source": [
    "print(f\"Part 1 solution: {part_1_solution(puzzle_input)}\")"
   ]
  },
  {
   "cell_type": "code",
   "execution_count": 5,
   "metadata": {},
   "outputs": [],
   "source": [
    "def part_2_solution(input_list):\n",
    "    guards = parse_guards_log(input_list)\n",
    "    \n",
    "    searched_guard = sorted(guards,\n",
    "                            key=lambda g: g.get_most_common_sleep_minute_freq(),\n",
    "                            reverse=True)[0]\n",
    "    \n",
    "    return searched_guard.guard_id * searched_guard.get_most_common_sleep_minute()"
   ]
  },
  {
   "cell_type": "code",
   "execution_count": 6,
   "metadata": {},
   "outputs": [
    {
     "name": "stdout",
     "output_type": "stream",
     "text": [
      "Test passed\n"
     ]
    }
   ],
   "source": [
    "assert(part_2_solution(test_input.splitlines()) == 4455)\n",
    "print(\"Test passed\")"
   ]
  },
  {
   "cell_type": "code",
   "execution_count": 7,
   "metadata": {},
   "outputs": [
    {
     "name": "stdout",
     "output_type": "stream",
     "text": [
      "Part 2 solution: 14920\n"
     ]
    }
   ],
   "source": [
    "print(f\"Part 2 solution: {part_2_solution(puzzle_input)}\")"
   ]
  },
  {
   "cell_type": "code",
   "execution_count": null,
   "metadata": {},
   "outputs": [],
   "source": []
  }
 ],
 "metadata": {
  "kernelspec": {
   "display_name": "Python 3",
   "language": "python",
   "name": "python3"
  },
  "language_info": {
   "codemirror_mode": {
    "name": "ipython",
    "version": 3
   },
   "file_extension": ".py",
   "mimetype": "text/x-python",
   "name": "python",
   "nbconvert_exporter": "python",
   "pygments_lexer": "ipython3",
   "version": "3.6.1"
  }
 },
 "nbformat": 4,
 "nbformat_minor": 2
}
